{
  "nbformat": 4,
  "nbformat_minor": 0,
  "metadata": {
    "colab": {
      "provenance": []
    },
    "kernelspec": {
      "name": "python3",
      "display_name": "Python 3"
    },
    "language_info": {
      "name": "python"
    }
  },
  "cells": [
    {
      "cell_type": "markdown",
      "source": [
        "# **LSTM Model creation**"
      ],
      "metadata": {
        "id": "4cNK-5wYhbBP"
      }
    },
    {
      "cell_type": "code",
      "execution_count": null,
      "metadata": {
        "id": "AwPdvUflDCAi"
      },
      "outputs": [],
      "source": [
        "# Install and import libraries\n",
        "!pip install --quiet scipy scikit-learn\n",
        "\n",
        "import numpy as np, scipy.io as sio, tensorflow as tf\n",
        "from sklearn.model_selection import train_test_split\n",
        "from sklearn.metrics import confusion_matrix, ConfusionMatrixDisplay\n",
        "from tensorflow.keras import layers, models, callbacks\n",
        "import matplotlib.pyplot as plt\n",
        "import keras"
      ]
    },
    {
      "cell_type": "code",
      "source": [
        "# Python version\n",
        "print('Keras: {}'.format(keras.__version__))\n",
        "print('TensorFlow: {}'.format(tf.__version__))"
      ],
      "metadata": {
        "colab": {
          "base_uri": "https://localhost:8080/"
        },
        "id": "MobZ-oo_cSyT",
        "outputId": "a5dbc5df-5967-45eb-ed7d-8553cfbf1cd2"
      },
      "execution_count": null,
      "outputs": [
        {
          "output_type": "stream",
          "name": "stdout",
          "text": [
            "Keras: 3.8.0\n",
            "TensorFlow: 2.18.0\n"
          ]
        }
      ]
    },
    {
      "cell_type": "code",
      "source": [
        "# Load the .mat file specified by the path.\n",
        "# The 'dataset_split.mat' file should contain the X_train, y_train, etc., tensors generated in MATLAB.\n",
        "mat = sio.loadmat('/content/dataset_split.mat')\n",
        "\n",
        "# Extract training, validation, and test data from the loaded 'mat' dictionary.\n",
        "# .astype('float32') converts numerical data to float32 type, common in neural networks for memory and computational efficiency.\n",
        "# .squeeze() removes single-dimensional entries (e.g., [N, 1] becomes [N]), making label vectors more suitable for Keras/TensorFlow.\n",
        "# .astype('int') converts labels to integer type.\n",
        "X_train = mat['X_train'].astype('float32')\n",
        "y_train = mat['y_train'].squeeze().astype('int')\n",
        "X_val = mat['X_val'].astype('float32')\n",
        "y_val = mat['y_val'].squeeze().astype('int')\n",
        "X_test = mat['X_test'].astype('float32')\n",
        "y_test = mat['y_test'].squeeze().astype('int')\n",
        "\n",
        "# Reference: Class labels in MATLAB (and in your script) are often 1-based (1, 2, 3, ...).\n",
        "# Machine Learning libraries in Python (like Keras/TensorFlow) expect 0-based labels (0, 1, 2, ...).\n",
        "# This step decrements all labels by 1 to align them with this standard.\n",
        "y_train -= 1\n",
        "y_val -= 1\n",
        "y_test -= 1\n",
        "y_train -= 1\n",
        "y_val -= 1\n",
        "y_test -= 1\n",
        "\n",
        "# Print the shapes of the training, validation, and test tensors.\n",
        "print('X_train:', X_train.shape, '  X_val:', X_val.shape, ' X_test:', X_test.shape )"
      ],
      "metadata": {
        "colab": {
          "base_uri": "https://localhost:8080/"
        },
        "id": "dVGzoN8hEJQz",
        "outputId": "cd92b0f4-41e7-48fa-d217-a42c13cbe0df"
      },
      "execution_count": null,
      "outputs": [
        {
          "output_type": "stream",
          "name": "stdout",
          "text": [
            "X_train: (38894, 100, 6)   X_val: (11015, 100, 6)  X_test: (5479, 100, 6)\n"
          ]
        }
      ]
    },
    {
      "cell_type": "code",
      "source": [
        "# Normalization on training data\n",
        "mean = X_train.mean(axis=(0,1), keepdims=True)\n",
        "std  = X_train.std(axis=(0,1), keepdims=True) + 1e-8\n",
        "\n",
        "print(mean)\n",
        "print(std)\n",
        "\n",
        "X_train = (X_train - mean) / std\n",
        "X_val   = (X_val   - mean) / std\n",
        "X_test  = (X_test  - mean) / std"
      ],
      "metadata": {
        "id": "I_Q65z3AE4Nm",
        "colab": {
          "base_uri": "https://localhost:8080/"
        },
        "outputId": "be72aaef-33d5-4e3a-c6c8-61994c9ae3c4"
      },
      "execution_count": null,
      "outputs": [
        {
          "output_type": "stream",
          "name": "stdout",
          "text": [
            "[[[-0.3109933  -0.21435975  4.9039526   0.12456421  0.06937116\n",
            "   -0.03399972]]]\n",
            "[[[ 84.00599  140.4055   224.9723    18.348589  17.98235   16.988403]]]\n"
          ]
        }
      ]
    },
    {
      "cell_type": "code",
      "source": [
        "# Neural Network model\n",
        "seq_len   = X_train.shape[1]\n",
        "n_feats   = X_train.shape[2]\n",
        "model = tf.keras.Sequential([\n",
        "    tf.keras.layers.Input(shape=(100, 6)),\n",
        "    tf.keras.layers.LSTM(100, return_sequences=False),\n",
        "    tf.keras.layers.BatchNormalization(),\n",
        "    tf.keras.layers.Dropout(0.3),\n",
        "    tf.keras.layers.Dense(32, activation='relu', kernel_regularizer=tf.keras.regularizers.l2(1e-3)),\n",
        "    tf.keras.layers.BatchNormalization(),\n",
        "    tf.keras.layers.Dropout(0.3),\n",
        "    tf.keras.layers.Dense(5, activation='softmax')\n",
        "])\n",
        "\n",
        "# Compilation\n",
        "model.compile(\n",
        "    optimizer=tf.keras.optimizers.Adam(1e-3),\n",
        "    loss      ='sparse_categorical_crossentropy',\n",
        "    metrics   =['accuracy'])\n",
        "model.summary()"
      ],
      "metadata": {
        "colab": {
          "base_uri": "https://localhost:8080/",
          "height": 385
        },
        "id": "KD7a8dGZE7iI",
        "outputId": "5dad84a9-c64b-4bef-aba8-828619e230cf"
      },
      "execution_count": null,
      "outputs": [
        {
          "output_type": "display_data",
          "data": {
            "text/plain": [
              "\u001b[1mModel: \"sequential\"\u001b[0m\n"
            ],
            "text/html": [
              "<pre style=\"white-space:pre;overflow-x:auto;line-height:normal;font-family:Menlo,'DejaVu Sans Mono',consolas,'Courier New',monospace\"><span style=\"font-weight: bold\">Model: \"sequential\"</span>\n",
              "</pre>\n"
            ]
          },
          "metadata": {}
        },
        {
          "output_type": "display_data",
          "data": {
            "text/plain": [
              "┏━━━━━━━━━━━━━━━━━━━━━━━━━━━━━━━━━┳━━━━━━━━━━━━━━━━━━━━━━━━┳━━━━━━━━━━━━━━━┓\n",
              "┃\u001b[1m \u001b[0m\u001b[1mLayer (type)                   \u001b[0m\u001b[1m \u001b[0m┃\u001b[1m \u001b[0m\u001b[1mOutput Shape          \u001b[0m\u001b[1m \u001b[0m┃\u001b[1m \u001b[0m\u001b[1m      Param #\u001b[0m\u001b[1m \u001b[0m┃\n",
              "┡━━━━━━━━━━━━━━━━━━━━━━━━━━━━━━━━━╇━━━━━━━━━━━━━━━━━━━━━━━━╇━━━━━━━━━━━━━━━┩\n",
              "│ lstm (\u001b[38;5;33mLSTM\u001b[0m)                     │ (\u001b[38;5;45mNone\u001b[0m, \u001b[38;5;34m100\u001b[0m)            │        \u001b[38;5;34m42,800\u001b[0m │\n",
              "├─────────────────────────────────┼────────────────────────┼───────────────┤\n",
              "│ batch_normalization             │ (\u001b[38;5;45mNone\u001b[0m, \u001b[38;5;34m100\u001b[0m)            │           \u001b[38;5;34m400\u001b[0m │\n",
              "│ (\u001b[38;5;33mBatchNormalization\u001b[0m)            │                        │               │\n",
              "├─────────────────────────────────┼────────────────────────┼───────────────┤\n",
              "│ dropout (\u001b[38;5;33mDropout\u001b[0m)               │ (\u001b[38;5;45mNone\u001b[0m, \u001b[38;5;34m100\u001b[0m)            │             \u001b[38;5;34m0\u001b[0m │\n",
              "├─────────────────────────────────┼────────────────────────┼───────────────┤\n",
              "│ dense (\u001b[38;5;33mDense\u001b[0m)                   │ (\u001b[38;5;45mNone\u001b[0m, \u001b[38;5;34m32\u001b[0m)             │         \u001b[38;5;34m3,232\u001b[0m │\n",
              "├─────────────────────────────────┼────────────────────────┼───────────────┤\n",
              "│ batch_normalization_1           │ (\u001b[38;5;45mNone\u001b[0m, \u001b[38;5;34m32\u001b[0m)             │           \u001b[38;5;34m128\u001b[0m │\n",
              "│ (\u001b[38;5;33mBatchNormalization\u001b[0m)            │                        │               │\n",
              "├─────────────────────────────────┼────────────────────────┼───────────────┤\n",
              "│ dropout_1 (\u001b[38;5;33mDropout\u001b[0m)             │ (\u001b[38;5;45mNone\u001b[0m, \u001b[38;5;34m32\u001b[0m)             │             \u001b[38;5;34m0\u001b[0m │\n",
              "├─────────────────────────────────┼────────────────────────┼───────────────┤\n",
              "│ dense_1 (\u001b[38;5;33mDense\u001b[0m)                 │ (\u001b[38;5;45mNone\u001b[0m, \u001b[38;5;34m5\u001b[0m)              │           \u001b[38;5;34m165\u001b[0m │\n",
              "└─────────────────────────────────┴────────────────────────┴───────────────┘\n"
            ],
            "text/html": [
              "<pre style=\"white-space:pre;overflow-x:auto;line-height:normal;font-family:Menlo,'DejaVu Sans Mono',consolas,'Courier New',monospace\">┏━━━━━━━━━━━━━━━━━━━━━━━━━━━━━━━━━┳━━━━━━━━━━━━━━━━━━━━━━━━┳━━━━━━━━━━━━━━━┓\n",
              "┃<span style=\"font-weight: bold\"> Layer (type)                    </span>┃<span style=\"font-weight: bold\"> Output Shape           </span>┃<span style=\"font-weight: bold\">       Param # </span>┃\n",
              "┡━━━━━━━━━━━━━━━━━━━━━━━━━━━━━━━━━╇━━━━━━━━━━━━━━━━━━━━━━━━╇━━━━━━━━━━━━━━━┩\n",
              "│ lstm (<span style=\"color: #0087ff; text-decoration-color: #0087ff\">LSTM</span>)                     │ (<span style=\"color: #00d7ff; text-decoration-color: #00d7ff\">None</span>, <span style=\"color: #00af00; text-decoration-color: #00af00\">100</span>)            │        <span style=\"color: #00af00; text-decoration-color: #00af00\">42,800</span> │\n",
              "├─────────────────────────────────┼────────────────────────┼───────────────┤\n",
              "│ batch_normalization             │ (<span style=\"color: #00d7ff; text-decoration-color: #00d7ff\">None</span>, <span style=\"color: #00af00; text-decoration-color: #00af00\">100</span>)            │           <span style=\"color: #00af00; text-decoration-color: #00af00\">400</span> │\n",
              "│ (<span style=\"color: #0087ff; text-decoration-color: #0087ff\">BatchNormalization</span>)            │                        │               │\n",
              "├─────────────────────────────────┼────────────────────────┼───────────────┤\n",
              "│ dropout (<span style=\"color: #0087ff; text-decoration-color: #0087ff\">Dropout</span>)               │ (<span style=\"color: #00d7ff; text-decoration-color: #00d7ff\">None</span>, <span style=\"color: #00af00; text-decoration-color: #00af00\">100</span>)            │             <span style=\"color: #00af00; text-decoration-color: #00af00\">0</span> │\n",
              "├─────────────────────────────────┼────────────────────────┼───────────────┤\n",
              "│ dense (<span style=\"color: #0087ff; text-decoration-color: #0087ff\">Dense</span>)                   │ (<span style=\"color: #00d7ff; text-decoration-color: #00d7ff\">None</span>, <span style=\"color: #00af00; text-decoration-color: #00af00\">32</span>)             │         <span style=\"color: #00af00; text-decoration-color: #00af00\">3,232</span> │\n",
              "├─────────────────────────────────┼────────────────────────┼───────────────┤\n",
              "│ batch_normalization_1           │ (<span style=\"color: #00d7ff; text-decoration-color: #00d7ff\">None</span>, <span style=\"color: #00af00; text-decoration-color: #00af00\">32</span>)             │           <span style=\"color: #00af00; text-decoration-color: #00af00\">128</span> │\n",
              "│ (<span style=\"color: #0087ff; text-decoration-color: #0087ff\">BatchNormalization</span>)            │                        │               │\n",
              "├─────────────────────────────────┼────────────────────────┼───────────────┤\n",
              "│ dropout_1 (<span style=\"color: #0087ff; text-decoration-color: #0087ff\">Dropout</span>)             │ (<span style=\"color: #00d7ff; text-decoration-color: #00d7ff\">None</span>, <span style=\"color: #00af00; text-decoration-color: #00af00\">32</span>)             │             <span style=\"color: #00af00; text-decoration-color: #00af00\">0</span> │\n",
              "├─────────────────────────────────┼────────────────────────┼───────────────┤\n",
              "│ dense_1 (<span style=\"color: #0087ff; text-decoration-color: #0087ff\">Dense</span>)                 │ (<span style=\"color: #00d7ff; text-decoration-color: #00d7ff\">None</span>, <span style=\"color: #00af00; text-decoration-color: #00af00\">5</span>)              │           <span style=\"color: #00af00; text-decoration-color: #00af00\">165</span> │\n",
              "└─────────────────────────────────┴────────────────────────┴───────────────┘\n",
              "</pre>\n"
            ]
          },
          "metadata": {}
        },
        {
          "output_type": "display_data",
          "data": {
            "text/plain": [
              "\u001b[1m Total params: \u001b[0m\u001b[38;5;34m46,725\u001b[0m (182.52 KB)\n"
            ],
            "text/html": [
              "<pre style=\"white-space:pre;overflow-x:auto;line-height:normal;font-family:Menlo,'DejaVu Sans Mono',consolas,'Courier New',monospace\"><span style=\"font-weight: bold\"> Total params: </span><span style=\"color: #00af00; text-decoration-color: #00af00\">46,725</span> (182.52 KB)\n",
              "</pre>\n"
            ]
          },
          "metadata": {}
        },
        {
          "output_type": "display_data",
          "data": {
            "text/plain": [
              "\u001b[1m Trainable params: \u001b[0m\u001b[38;5;34m46,461\u001b[0m (181.49 KB)\n"
            ],
            "text/html": [
              "<pre style=\"white-space:pre;overflow-x:auto;line-height:normal;font-family:Menlo,'DejaVu Sans Mono',consolas,'Courier New',monospace\"><span style=\"font-weight: bold\"> Trainable params: </span><span style=\"color: #00af00; text-decoration-color: #00af00\">46,461</span> (181.49 KB)\n",
              "</pre>\n"
            ]
          },
          "metadata": {}
        },
        {
          "output_type": "display_data",
          "data": {
            "text/plain": [
              "\u001b[1m Non-trainable params: \u001b[0m\u001b[38;5;34m264\u001b[0m (1.03 KB)\n"
            ],
            "text/html": [
              "<pre style=\"white-space:pre;overflow-x:auto;line-height:normal;font-family:Menlo,'DejaVu Sans Mono',consolas,'Courier New',monospace\"><span style=\"font-weight: bold\"> Non-trainable params: </span><span style=\"color: #00af00; text-decoration-color: #00af00\">264</span> (1.03 KB)\n",
              "</pre>\n"
            ]
          },
          "metadata": {}
        }
      ]
    },
    {
      "cell_type": "markdown",
      "source": [
        "# **Train e validation model**"
      ],
      "metadata": {
        "id": "MPRmIxn-hFuM"
      }
    },
    {
      "cell_type": "code",
      "source": [
        "# Training model\n",
        "BATCH  = 128\n",
        "EPOCHS = 40\n",
        "\n",
        "history = model.fit(\n",
        "    X_train, y_train,\n",
        "    epochs          = EPOCHS,\n",
        "    batch_size      = BATCH,\n",
        "    validation_data = (X_val, y_val),\n",
        "    shuffle         = True,\n",
        "    verbose         = 1,\n",
        "    callbacks       = tf.keras.callbacks.EarlyStopping(patience=8, restore_best_weights=True, verbose=1),\n",
        ")"
      ],
      "metadata": {
        "colab": {
          "base_uri": "https://localhost:8080/"
        },
        "id": "pxeDDjs8FDG1",
        "outputId": "0d443bad-9c11-4cc7-f806-0206d07670a6"
      },
      "execution_count": null,
      "outputs": [
        {
          "output_type": "stream",
          "name": "stdout",
          "text": [
            "Epoch 1/40\n",
            "\u001b[1m304/304\u001b[0m \u001b[32m━━━━━━━━━━━━━━━━━━━━\u001b[0m\u001b[37m\u001b[0m \u001b[1m56s\u001b[0m 184ms/step - accuracy: 0.9556 - loss: 0.1328 - val_accuracy: 0.9405 - val_loss: 0.1923\n",
            "Epoch 2/40\n",
            "\u001b[1m304/304\u001b[0m \u001b[32m━━━━━━━━━━━━━━━━━━━━\u001b[0m\u001b[37m\u001b[0m \u001b[1m86s\u001b[0m 198ms/step - accuracy: 0.9525 - loss: 0.1460 - val_accuracy: 0.9404 - val_loss: 0.2116\n",
            "Epoch 3/40\n",
            "\u001b[1m304/304\u001b[0m \u001b[32m━━━━━━━━━━━━━━━━━━━━\u001b[0m\u001b[37m\u001b[0m \u001b[1m55s\u001b[0m 183ms/step - accuracy: 0.9571 - loss: 0.1344 - val_accuracy: 0.9446 - val_loss: 0.2412\n",
            "Epoch 4/40\n",
            "\u001b[1m304/304\u001b[0m \u001b[32m━━━━━━━━━━━━━━━━━━━━\u001b[0m\u001b[37m\u001b[0m \u001b[1m82s\u001b[0m 182ms/step - accuracy: 0.9570 - loss: 0.1284 - val_accuracy: 0.9433 - val_loss: 0.1782\n",
            "Epoch 5/40\n",
            "\u001b[1m304/304\u001b[0m \u001b[32m━━━━━━━━━━━━━━━━━━━━\u001b[0m\u001b[37m\u001b[0m \u001b[1m83s\u001b[0m 186ms/step - accuracy: 0.9569 - loss: 0.1305 - val_accuracy: 0.9412 - val_loss: 0.2287\n",
            "Epoch 6/40\n",
            "\u001b[1m304/304\u001b[0m \u001b[32m━━━━━━━━━━━━━━━━━━━━\u001b[0m\u001b[37m\u001b[0m \u001b[1m55s\u001b[0m 182ms/step - accuracy: 0.9605 - loss: 0.1216 - val_accuracy: 0.9403 - val_loss: 0.1905\n",
            "Epoch 7/40\n",
            "\u001b[1m304/304\u001b[0m \u001b[32m━━━━━━━━━━━━━━━━━━━━\u001b[0m\u001b[37m\u001b[0m \u001b[1m56s\u001b[0m 184ms/step - accuracy: 0.9599 - loss: 0.1258 - val_accuracy: 0.9429 - val_loss: 0.1864\n",
            "Epoch 8/40\n",
            "\u001b[1m304/304\u001b[0m \u001b[32m━━━━━━━━━━━━━━━━━━━━\u001b[0m\u001b[37m\u001b[0m \u001b[1m82s\u001b[0m 183ms/step - accuracy: 0.9585 - loss: 0.1198 - val_accuracy: 0.9399 - val_loss: 0.2073\n",
            "Epoch 9/40\n",
            "\u001b[1m304/304\u001b[0m \u001b[32m━━━━━━━━━━━━━━━━━━━━\u001b[0m\u001b[37m\u001b[0m \u001b[1m86s\u001b[0m 198ms/step - accuracy: 0.9607 - loss: 0.1193 - val_accuracy: 0.9294 - val_loss: 0.2476\n",
            "Epoch 10/40\n",
            "\u001b[1m304/304\u001b[0m \u001b[32m━━━━━━━━━━━━━━━━━━━━\u001b[0m\u001b[37m\u001b[0m \u001b[1m55s\u001b[0m 181ms/step - accuracy: 0.9624 - loss: 0.1211 - val_accuracy: 0.9415 - val_loss: 0.2033\n",
            "Epoch 11/40\n",
            "\u001b[1m304/304\u001b[0m \u001b[32m━━━━━━━━━━━━━━━━━━━━\u001b[0m\u001b[37m\u001b[0m \u001b[1m82s\u001b[0m 182ms/step - accuracy: 0.9629 - loss: 0.1114 - val_accuracy: 0.9394 - val_loss: 0.1905\n",
            "Epoch 12/40\n",
            "\u001b[1m304/304\u001b[0m \u001b[32m━━━━━━━━━━━━━━━━━━━━\u001b[0m\u001b[37m\u001b[0m \u001b[1m87s\u001b[0m 199ms/step - accuracy: 0.9621 - loss: 0.1171 - val_accuracy: 0.9416 - val_loss: 0.1958\n",
            "Epoch 12: early stopping\n",
            "Restoring model weights from the end of the best epoch: 4.\n"
          ]
        }
      ]
    },
    {
      "cell_type": "code",
      "source": [
        "# Test model on unseen data\n",
        "test_loss, test_acc = model.evaluate(X_test, y_test, verbose=0)\n",
        "print(f\"Test accuracy = {test_acc:.4f}\")"
      ],
      "metadata": {
        "colab": {
          "base_uri": "https://localhost:8080/"
        },
        "id": "FYpvEq_PRscJ",
        "outputId": "ae3812dc-5541-4e06-bfab-5022e7aca2b2"
      },
      "execution_count": null,
      "outputs": [
        {
          "output_type": "stream",
          "name": "stdout",
          "text": [
            "Test accuracy = 0.9456\n"
          ]
        }
      ]
    },
    {
      "cell_type": "code",
      "source": [
        "# Confusion matrix to evaluate network accuracy\n",
        "y_pred = model.predict(X_test).argmax(axis=1)\n",
        "cm = confusion_matrix(y_test, y_pred)\n",
        "ConfusionMatrixDisplay(cm).plot(cmap='Blues')\n",
        "plt.show()"
      ],
      "metadata": {
        "colab": {
          "base_uri": "https://localhost:8080/",
          "height": 466
        },
        "id": "6gk6qeWSRt_w",
        "outputId": "4263673b-99e1-423c-8c3a-6b2d63980357"
      },
      "execution_count": null,
      "outputs": [
        {
          "output_type": "stream",
          "name": "stdout",
          "text": [
            "\u001b[1m172/172\u001b[0m \u001b[32m━━━━━━━━━━━━━━━━━━━━\u001b[0m\u001b[37m\u001b[0m \u001b[1m5s\u001b[0m 25ms/step\n"
          ]
        },
        {
          "output_type": "display_data",
          "data": {
            "text/plain": [
              "<Figure size 640x480 with 2 Axes>"
            ],
            "image/png": "[encoded data removed]"
          },
          "metadata": {}
        }
      ]
    },
    {
      "cell_type": "markdown",
      "source": [
        "# **Saving model in Keras .h5 format**"
      ],
      "metadata": {
        "id": "HSqe9PSRPu3U"
      }
    },
    {
      "cell_type": "code",
      "source": [
        "# Function definition to estimate model size\n",
        "import os\n",
        "\n",
        "def get_file_size(file_path):\n",
        "    size = os.path.getsize(file_path)\n",
        "    return size\n",
        "\n",
        "def convert_bytes(size, unit=None):\n",
        "    if unit == \"KB\":\n",
        "        return print('File size: ' + str(round(size / 1024, 3)) + ' KB')\n",
        "    elif unit == \"MB\":\n",
        "        return print('File size: ' + str(round(size / (1024 * 1024), 3)) + ' MB')\n",
        "    else:\n",
        "        return print('File size: ' + str(size) + ' bytes')"
      ],
      "metadata": {
        "id": "2QDB327q9ciN"
      },
      "execution_count": null,
      "outputs": []
    },
    {
      "cell_type": "code",
      "source": [
        "# Save model in HD5 format\n",
        "saved_model = \"har_model.h5\"\n",
        "model.save(saved_model)\n",
        "\n",
        "!ls"
      ],
      "metadata": {
        "colab": {
          "base_uri": "https://localhost:8080/"
        },
        "id": "W6v109YkNGPC",
        "outputId": "0fdbf8b2-f2a4-406f-fd68-ca53633726dc"
      },
      "execution_count": null,
      "outputs": [
        {
          "output_type": "stream",
          "name": "stderr",
          "text": [
            "WARNING:absl:You are saving your model as an HDF5 file via `model.save()` or `keras.saving.save_model(model)`. This file format is considered legacy. We recommend using instead the native Keras format, e.g. `model.save('my_model.keras')` or `keras.saving.save_model(model, 'my_model.keras')`. \n"
          ]
        },
        {
          "output_type": "stream",
          "name": "stdout",
          "text": [
            "dataset_split.mat  har_model.h5  sample_data\n"
          ]
        }
      ]
    },
    {
      "cell_type": "code",
      "source": [
        "# Download saved model\n",
        "try:\n",
        "  from google.colab import files\n",
        "  files.download(saved_model)\n",
        "except ImportError:\n",
        "  pass"
      ],
      "metadata": {
        "colab": {
          "base_uri": "https://localhost:8080/",
          "height": 17
        },
        "id": "eQlkrSxsQXX1",
        "outputId": "9ad32a5d-de56-47ec-b702-5e2659c75ce2"
      },
      "execution_count": null,
      "outputs": [
        {
          "output_type": "display_data",
          "data": {
            "text/plain": [
              "<IPython.core.display.Javascript object>"
            ],
            "application/javascript": [
              "\n",
              "    async function download(id, filename, size) {\n",
              "      if (!google.colab.kernel.accessAllowed) {\n",
              "        return;\n",
              "      }\n",
              "      const div = document.createElement('div');\n",
              "      const label = document.createElement('label');\n",
              "      label.textContent = `Downloading \"${filename}\": `;\n",
              "      div.appendChild(label);\n",
              "      const progress = document.createElement('progress');\n",
              "      progress.max = size;\n",
              "      div.appendChild(progress);\n",
              "      document.body.appendChild(div);\n",
              "\n",
              "      const buffers = [];\n",
              "      let downloaded = 0;\n",
              "\n",
              "      const channel = await google.colab.kernel.comms.open(id);\n",
              "      // Send a message to notify the kernel that we're ready.\n",
              "      channel.send({})\n",
              "\n",
              "      for await (const message of channel.messages) {\n",
              "        // Send a message to notify the kernel that we're ready.\n",
              "        channel.send({})\n",
              "        if (message.buffers) {\n",
              "          for (const buffer of message.buffers) {\n",
              "            buffers.push(buffer);\n",
              "            downloaded += buffer.byteLength;\n",
              "            progress.value = downloaded;\n",
              "          }\n",
              "        }\n",
              "      }\n",
              "      const blob = new Blob(buffers, {type: 'application/binary'});\n",
              "      const a = document.createElement('a');\n",
              "      a.href = window.URL.createObjectURL(blob);\n",
              "      a.download = filename;\n",
              "      div.appendChild(a);\n",
              "      a.click();\n",
              "      div.remove();\n",
              "    }\n",
              "  "
            ]
          },
          "metadata": {}
        },
        {
          "output_type": "display_data",
          "data": {
            "text/plain": [
              "<IPython.core.display.Javascript object>"
            ],
            "application/javascript": [
              "download(\"download_23a5bbd7-c08d-496a-8ad1-411716240b5d\", \"har_model.h5\", 610376)"
            ]
          },
          "metadata": {}
        }
      ]
    },
    {
      "cell_type": "code",
      "source": [
        "# Calculate model size\n",
        "convert_bytes(get_file_size(saved_model), \"MB\")\n",
        "get_file_size(saved_model)"
      ],
      "metadata": {
        "colab": {
          "base_uri": "https://localhost:8080/"
        },
        "id": "FInqxZYdQh2n",
        "outputId": "63039dcb-5910-4acb-b17d-ffa7087bc9d3"
      },
      "execution_count": null,
      "outputs": [
        {
          "output_type": "stream",
          "name": "stdout",
          "text": [
            "File size: 0.216 MB\n"
          ]
        },
        {
          "output_type": "execute_result",
          "data": {
            "text/plain": [
              "226296"
            ]
          },
          "metadata": {},
          "execution_count": 21
        }
      ]
    },
    {
      "cell_type": "markdown",
      "source": [
        "# **Conversion to TensorFlow Lite**"
      ],
      "metadata": {
        "id": "Gps0NujsQswE"
      }
    },
    {
      "cell_type": "code",
      "source": [
        "model = tf.keras.models.load_model('har_model.h5')\n",
        "\n",
        "converter = tf.lite.TFLiteConverter.from_keras_model(model)\n",
        "converter.experimental_enable_resource_variables = True\n",
        "converter.target_spec.supported_ops = [\n",
        "    tf.lite.OpsSet.TFLITE_BUILTINS,\n",
        "    tf.lite.OpsSet.SELECT_TF_OPS\n",
        "]\n",
        "\n",
        "converter._experimental_lower_tensor_list_ops = False\n",
        "\n",
        "tflite_fp32 = converter.convert()\n",
        "\n",
        "path = pathlib.Path('har_model_fp32.tflite')\n",
        "path.write_bytes(tflite_fp32)\n",
        "print(f'Saved {path.name}, size {os.path.getsize(path)/1024:.1f} kB')\n"
      ],
      "metadata": {
        "colab": {
          "base_uri": "https://localhost:8080/"
        },
        "id": "3NptgtX1TXmI",
        "outputId": "c79ed262-395d-4909-a9cc-a1b51cb0e9ce"
      },
      "execution_count": null,
      "outputs": [
        {
          "output_type": "stream",
          "name": "stderr",
          "text": [
            "WARNING:absl:Compiled the loaded model, but the compiled metrics have yet to be built. `model.compile_metrics` will be empty until you train or evaluate the model.\n"
          ]
        },
        {
          "output_type": "stream",
          "name": "stdout",
          "text": [
            "Saved artifact at '/tmp/tmpyp0bz5_i'. The following endpoints are available:\n",
            "\n",
            "* Endpoint 'serve'\n",
            "  args_0 (POSITIONAL_ONLY): TensorSpec(shape=(None, 100, 6), dtype=tf.float32, name='input_layer')\n",
            "Output Type:\n",
            "  TensorSpec(shape=(None, 5), dtype=tf.float32, name=None)\n",
            "Captures:\n",
            "  132449679952400: TensorSpec(shape=(), dtype=tf.resource, name=None)\n",
            "  132449679959504: TensorSpec(shape=(), dtype=tf.resource, name=None)\n",
            "  132449679966032: TensorSpec(shape=(), dtype=tf.resource, name=None)\n",
            "  132449679955664: TensorSpec(shape=(), dtype=tf.resource, name=None)\n",
            "  132449679956240: TensorSpec(shape=(), dtype=tf.resource, name=None)\n",
            "  132449679958352: TensorSpec(shape=(), dtype=tf.resource, name=None)\n",
            "  132449679961424: TensorSpec(shape=(), dtype=tf.resource, name=None)\n",
            "  132449679954896: TensorSpec(shape=(), dtype=tf.resource, name=None)\n",
            "  132449679962768: TensorSpec(shape=(), dtype=tf.resource, name=None)\n",
            "  132449679965648: TensorSpec(shape=(), dtype=tf.resource, name=None)\n",
            "  132449679962960: TensorSpec(shape=(), dtype=tf.resource, name=None)\n",
            "  132449679965456: TensorSpec(shape=(), dtype=tf.resource, name=None)\n",
            "  132449679962576: TensorSpec(shape=(), dtype=tf.resource, name=None)\n",
            "  132449679964688: TensorSpec(shape=(), dtype=tf.resource, name=None)\n",
            "  132449679951248: TensorSpec(shape=(), dtype=tf.resource, name=None)\n",
            "Saved har_model_fp32.tflite, size 191.6 kB\n"
          ]
        }
      ]
    },
    {
      "cell_type": "code",
      "source": [
        "# Download the generated file\n",
        "files.download('har_model_fp32.tflite')"
      ],
      "metadata": {
        "colab": {
          "base_uri": "https://localhost:8080/",
          "height": 17
        },
        "id": "kA-tn5P6W_Qu",
        "outputId": "7f10adf5-2485-4aab-d752-0e2960033d39"
      },
      "execution_count": null,
      "outputs": [
        {
          "output_type": "display_data",
          "data": {
            "text/plain": [
              "<IPython.core.display.Javascript object>"
            ],
            "application/javascript": [
              "\n",
              "    async function download(id, filename, size) {\n",
              "      if (!google.colab.kernel.accessAllowed) {\n",
              "        return;\n",
              "      }\n",
              "      const div = document.createElement('div');\n",
              "      const label = document.createElement('label');\n",
              "      label.textContent = `Downloading \"${filename}\": `;\n",
              "      div.appendChild(label);\n",
              "      const progress = document.createElement('progress');\n",
              "      progress.max = size;\n",
              "      div.appendChild(progress);\n",
              "      document.body.appendChild(div);\n",
              "\n",
              "      const buffers = [];\n",
              "      let downloaded = 0;\n",
              "\n",
              "      const channel = await google.colab.kernel.comms.open(id);\n",
              "      // Send a message to notify the kernel that we're ready.\n",
              "      channel.send({})\n",
              "\n",
              "      for await (const message of channel.messages) {\n",
              "        // Send a message to notify the kernel that we're ready.\n",
              "        channel.send({})\n",
              "        if (message.buffers) {\n",
              "          for (const buffer of message.buffers) {\n",
              "            buffers.push(buffer);\n",
              "            downloaded += buffer.byteLength;\n",
              "            progress.value = downloaded;\n",
              "          }\n",
              "        }\n",
              "      }\n",
              "      const blob = new Blob(buffers, {type: 'application/binary'});\n",
              "      const a = document.createElement('a');\n",
              "      a.href = window.URL.createObjectURL(blob);\n",
              "      a.download = filename;\n",
              "      div.appendChild(a);\n",
              "      a.click();\n",
              "      div.remove();\n",
              "    }\n",
              "  "
            ]
          },
          "metadata": {}
        },
        {
          "output_type": "display_data",
          "data": {
            "text/plain": [
              "<IPython.core.display.Javascript object>"
            ],
            "application/javascript": [
              "download(\"download_aecaff6a-a9de-48fe-8e15-8baeb6354130\", \"har_model_fp32.tflite\", 196152)"
            ]
          },
          "metadata": {}
        }
      ]
    },
    {
      "cell_type": "markdown",
      "source": [
        "# **Saving test data for STM32 validation**"
      ],
      "metadata": {
        "id": "qbkQDf69PDwy"
      }
    },
    {
      "cell_type": "code",
      "source": [
        "# Saving test data for STM32 validation\n",
        "print(X_test.shape)\n",
        "print(y_test.shape)\n",
        "print((len(y_test),))\n",
        "\n",
        "# npy file format\n",
        "np.save(\"x_test_tensor.npy\", X_test)\n",
        "np.save(\"y_test_tensor.npy\", y_test)"
      ],
      "metadata": {
        "colab": {
          "base_uri": "https://localhost:8080/"
        },
        "id": "xYitNKTQ9vxK",
        "outputId": "c9ac33c8-69a4-43e5-d032-845195fb7107"
      },
      "execution_count": null,
      "outputs": [
        {
          "output_type": "stream",
          "name": "stdout",
          "text": [
            "(5539, 100, 6)\n",
            "(5539,)\n",
            "(5539,)\n"
          ]
        }
      ]
    },
    {
      "cell_type": "code",
      "source": [
        "# Download test files\n",
        "try:\n",
        "  from google.colab import files\n",
        "  files.download(\"x_test_tensor.npy\")\n",
        "  files.download(\"y_test_tensor.npy\")\n",
        "except ImportError:\n",
        "  pass"
      ],
      "metadata": {
        "colab": {
          "base_uri": "https://localhost:8080/",
          "height": 17
        },
        "id": "aXgn777CO8q7",
        "outputId": "632d0f85-2988-486c-be67-5ac5e1863583"
      },
      "execution_count": null,
      "outputs": [
        {
          "output_type": "display_data",
          "data": {
            "text/plain": [
              "<IPython.core.display.Javascript object>"
            ],
            "application/javascript": [
              "\n",
              "    async function download(id, filename, size) {\n",
              "      if (!google.colab.kernel.accessAllowed) {\n",
              "        return;\n",
              "      }\n",
              "      const div = document.createElement('div');\n",
              "      const label = document.createElement('label');\n",
              "      label.textContent = `Downloading \"${filename}\": `;\n",
              "      div.appendChild(label);\n",
              "      const progress = document.createElement('progress');\n",
              "      progress.max = size;\n",
              "      div.appendChild(progress);\n",
              "      document.body.appendChild(div);\n",
              "\n",
              "      const buffers = [];\n",
              "      let downloaded = 0;\n",
              "\n",
              "      const channel = await google.colab.kernel.comms.open(id);\n",
              "      // Send a message to notify the kernel that we're ready.\n",
              "      channel.send({})\n",
              "\n",
              "      for await (const message of channel.messages) {\n",
              "        // Send a message to notify the kernel that we're ready.\n",
              "        channel.send({})\n",
              "        if (message.buffers) {\n",
              "          for (const buffer of message.buffers) {\n",
              "            buffers.push(buffer);\n",
              "            downloaded += buffer.byteLength;\n",
              "            progress.value = downloaded;\n",
              "          }\n",
              "        }\n",
              "      }\n",
              "      const blob = new Blob(buffers, {type: 'application/binary'});\n",
              "      const a = document.createElement('a');\n",
              "      a.href = window.URL.createObjectURL(blob);\n",
              "      a.download = filename;\n",
              "      div.appendChild(a);\n",
              "      a.click();\n",
              "      div.remove();\n",
              "    }\n",
              "  "
            ]
          },
          "metadata": {}
        },
        {
          "output_type": "display_data",
          "data": {
            "text/plain": [
              "<IPython.core.display.Javascript object>"
            ],
            "application/javascript": [
              "download(\"download_504d3810-f61b-4dec-a9a1-a92880248e9b\", \"x_test_tensor.npy\", 13293728)"
            ]
          },
          "metadata": {}
        },
        {
          "output_type": "display_data",
          "data": {
            "text/plain": [
              "<IPython.core.display.Javascript object>"
            ],
            "application/javascript": [
              "\n",
              "    async function download(id, filename, size) {\n",
              "      if (!google.colab.kernel.accessAllowed) {\n",
              "        return;\n",
              "      }\n",
              "      const div = document.createElement('div');\n",
              "      const label = document.createElement('label');\n",
              "      label.textContent = `Downloading \"${filename}\": `;\n",
              "      div.appendChild(label);\n",
              "      const progress = document.createElement('progress');\n",
              "      progress.max = size;\n",
              "      div.appendChild(progress);\n",
              "      document.body.appendChild(div);\n",
              "\n",
              "      const buffers = [];\n",
              "      let downloaded = 0;\n",
              "\n",
              "      const channel = await google.colab.kernel.comms.open(id);\n",
              "      // Send a message to notify the kernel that we're ready.\n",
              "      channel.send({})\n",
              "\n",
              "      for await (const message of channel.messages) {\n",
              "        // Send a message to notify the kernel that we're ready.\n",
              "        channel.send({})\n",
              "        if (message.buffers) {\n",
              "          for (const buffer of message.buffers) {\n",
              "            buffers.push(buffer);\n",
              "            downloaded += buffer.byteLength;\n",
              "            progress.value = downloaded;\n",
              "          }\n",
              "        }\n",
              "      }\n",
              "      const blob = new Blob(buffers, {type: 'application/binary'});\n",
              "      const a = document.createElement('a');\n",
              "      a.href = window.URL.createObjectURL(blob);\n",
              "      a.download = filename;\n",
              "      div.appendChild(a);\n",
              "      a.click();\n",
              "      div.remove();\n",
              "    }\n",
              "  "
            ]
          },
          "metadata": {}
        },
        {
          "output_type": "display_data",
          "data": {
            "text/plain": [
              "<IPython.core.display.Javascript object>"
            ],
            "application/javascript": [
              "download(\"download_50b7a39b-c41c-47b2-a2d4-a37b6e77c8ce\", \"y_test_tensor.npy\", 44440)"
            ]
          },
          "metadata": {}
        }
      ]
    },
    {
      "cell_type": "code",
      "source": [
        "# Saving test data for STM32 Validation\n",
        "y_test_one_hot_labels = keras.utils.to_categorical(y_test, num_classes=5)\n",
        "print(y_test_one_hot_labels.shape)\n",
        "print(y_test_one_hot_labels[0])\n",
        "\n",
        "# Saving X_test from numpy array to CSV array\n",
        "np.savetxt('X_test.csv', X_test.reshape(X_test.shape[0], -1), delimiter=\",\")\n",
        "# Saving y_test from numpy array to CSV array\n",
        "np.savetxt('y_test.csv', y_test_one_hot_labels, delimiter=\",\")"
      ],
      "metadata": {
        "colab": {
          "base_uri": "https://localhost:8080/"
        },
        "id": "q1RqTfduXf2u",
        "outputId": "b328b8fb-e06e-4eda-f103-dcb6fd1b9a91"
      },
      "execution_count": null,
      "outputs": [
        {
          "output_type": "stream",
          "name": "stdout",
          "text": [
            "(5539, 5)\n",
            "[1. 0. 0. 0. 0.]\n"
          ]
        }
      ]
    },
    {
      "cell_type": "code",
      "source": [
        "# Download test files\n",
        "try:\n",
        "  from google.colab import files\n",
        "  files.download(\"X_test.csv\")\n",
        "  files.download(\"y_test.csv\")\n",
        "except ImportError:\n",
        "  pass"
      ],
      "metadata": {
        "colab": {
          "base_uri": "https://localhost:8080/",
          "height": 17
        },
        "id": "d0x3zzsrX4n6",
        "outputId": "b0583240-73b8-4914-d7eb-6becf1374bcd"
      },
      "execution_count": null,
      "outputs": [
        {
          "output_type": "display_data",
          "data": {
            "text/plain": [
              "<IPython.core.display.Javascript object>"
            ],
            "application/javascript": [
              "\n",
              "    async function download(id, filename, size) {\n",
              "      if (!google.colab.kernel.accessAllowed) {\n",
              "        return;\n",
              "      }\n",
              "      const div = document.createElement('div');\n",
              "      const label = document.createElement('label');\n",
              "      label.textContent = `Downloading \"${filename}\": `;\n",
              "      div.appendChild(label);\n",
              "      const progress = document.createElement('progress');\n",
              "      progress.max = size;\n",
              "      div.appendChild(progress);\n",
              "      document.body.appendChild(div);\n",
              "\n",
              "      const buffers = [];\n",
              "      let downloaded = 0;\n",
              "\n",
              "      const channel = await google.colab.kernel.comms.open(id);\n",
              "      // Send a message to notify the kernel that we're ready.\n",
              "      channel.send({})\n",
              "\n",
              "      for await (const message of channel.messages) {\n",
              "        // Send a message to notify the kernel that we're ready.\n",
              "        channel.send({})\n",
              "        if (message.buffers) {\n",
              "          for (const buffer of message.buffers) {\n",
              "            buffers.push(buffer);\n",
              "            downloaded += buffer.byteLength;\n",
              "            progress.value = downloaded;\n",
              "          }\n",
              "        }\n",
              "      }\n",
              "      const blob = new Blob(buffers, {type: 'application/binary'});\n",
              "      const a = document.createElement('a');\n",
              "      a.href = window.URL.createObjectURL(blob);\n",
              "      a.download = filename;\n",
              "      div.appendChild(a);\n",
              "      a.click();\n",
              "      div.remove();\n",
              "    }\n",
              "  "
            ]
          },
          "metadata": {}
        },
        {
          "output_type": "display_data",
          "data": {
            "text/plain": [
              "<IPython.core.display.Javascript object>"
            ],
            "application/javascript": [
              "download(\"download_03d1ad81-17d2-47fd-a100-4de29a9dcc56\", \"X_test.csv\", 84702520)"
            ]
          },
          "metadata": {}
        },
        {
          "output_type": "display_data",
          "data": {
            "text/plain": [
              "<IPython.core.display.Javascript object>"
            ],
            "application/javascript": [
              "\n",
              "    async function download(id, filename, size) {\n",
              "      if (!google.colab.kernel.accessAllowed) {\n",
              "        return;\n",
              "      }\n",
              "      const div = document.createElement('div');\n",
              "      const label = document.createElement('label');\n",
              "      label.textContent = `Downloading \"${filename}\": `;\n",
              "      div.appendChild(label);\n",
              "      const progress = document.createElement('progress');\n",
              "      progress.max = size;\n",
              "      div.appendChild(progress);\n",
              "      document.body.appendChild(div);\n",
              "\n",
              "      const buffers = [];\n",
              "      let downloaded = 0;\n",
              "\n",
              "      const channel = await google.colab.kernel.comms.open(id);\n",
              "      // Send a message to notify the kernel that we're ready.\n",
              "      channel.send({})\n",
              "\n",
              "      for await (const message of channel.messages) {\n",
              "        // Send a message to notify the kernel that we're ready.\n",
              "        channel.send({})\n",
              "        if (message.buffers) {\n",
              "          for (const buffer of message.buffers) {\n",
              "            buffers.push(buffer);\n",
              "            downloaded += buffer.byteLength;\n",
              "            progress.value = downloaded;\n",
              "          }\n",
              "        }\n",
              "      }\n",
              "      const blob = new Blob(buffers, {type: 'application/binary'});\n",
              "      const a = document.createElement('a');\n",
              "      a.href = window.URL.createObjectURL(blob);\n",
              "      a.download = filename;\n",
              "      div.appendChild(a);\n",
              "      a.click();\n",
              "      div.remove();\n",
              "    }\n",
              "  "
            ]
          },
          "metadata": {}
        },
        {
          "output_type": "display_data",
          "data": {
            "text/plain": [
              "<IPython.core.display.Javascript object>"
            ],
            "application/javascript": [
              "download(\"download_79f2fcf8-25d7-42dc-89b7-dde7407490ab\", \"y_test.csv\", 692375)"
            ]
          },
          "metadata": {}
        }
      ]
    },
    {
      "cell_type": "markdown",
      "source": [
        "# **Weights extraction and .c and .h file generation**"
      ],
      "metadata": {
        "id": "8czfd5hYwzD7"
      }
    },
    {
      "cell_type": "markdown",
      "source": [],
      "metadata": {
        "id": "NCBboxLaxI42"
      }
    },
    {
      "cell_type": "code",
      "source": [
        "# Input file\n",
        "model_path = \"/content/har_model.h5\"\n",
        "model = tf.keras.models.load_model(model_path)\n",
        "\n",
        "# Output\n",
        "c_file_path = \"/content/model_weights.c\"\n",
        "h_file_path = \"/content/model_weights.h\"\n",
        "\n",
        "c_file = open(c_file_path, \"w\")\n",
        "h_file = open(h_file_path, \"w\")\n",
        "h_file.write(\"#pragma once\\n\\n\")\n",
        "\n",
        "def sanitize_name(name):\n",
        "    return name.replace(\"/\", \"_\").replace(\":\", \"_\").replace(\"-\", \"_\")\n",
        "\n",
        "def write_array(name, array):\n",
        "    clean_name = sanitize_name(name)\n",
        "    shape = array.shape\n",
        "    array = np.array(array).astype(np.float32)\n",
        "\n",
        "    if len(shape) == 1:\n",
        "        c_file.write(f\"const float {clean_name}[{shape[0]}] = {{\\n\")\n",
        "        for val in array:\n",
        "            c_file.write(f\"  {val:.8e}f,\\n\")\n",
        "        c_file.write(\"};\\n\\n\")\n",
        "        h_file.write(f\"extern const float {clean_name}[{shape[0]}];\\n\")\n",
        "\n",
        "    elif len(shape) == 2:\n",
        "        c_file.write(f\"const float {clean_name}[{shape[0]}][{shape[1]}] = {{\\n\")\n",
        "        for row in array:\n",
        "            c_file.write(\"  { \" + \", \".join(f\"{val:.8e}f\" for val in row) + \" },\\n\")\n",
        "        c_file.write(\"};\\n\\n\")\n",
        "        h_file.write(f\"extern const float {clean_name}[{shape[0]}][{shape[1]}];\\n\")\n",
        "\n",
        "    elif len(shape) == 3:\n",
        "        flat_shape = (shape[0], shape[1] * shape[2])\n",
        "        array = array.reshape(flat_shape)\n",
        "        c_file.write(f\"const float {clean_name}[{flat_shape[0]}][{flat_shape[1]}] = {{\\n\")\n",
        "        for row in array:\n",
        "            c_file.write(\"  { \" + \", \".join(f\"{val:.8e}f\" for val in row) + \" },\\n\")\n",
        "        c_file.write(\"};\\n\\n\")\n",
        "        h_file.write(f\"extern const float {clean_name}[{flat_shape[0]}][{flat_shape[1]}];\\n\")\n",
        "\n",
        "    elif len(shape) == 4:\n",
        "        flat_shape = (shape[0], shape[1] * shape[2] * shape[3])\n",
        "        array = array.reshape(flat_shape)\n",
        "        c_file.write(f\"const float {clean_name}[{flat_shape[0]}][{flat_shape[1]}] = {{\\n\")\n",
        "        for row in array:\n",
        "            c_file.write(\"  { \" + \", \".join(f\"{val:.8e}f\" for val in row) + \" },\\n\")\n",
        "        c_file.write(\"};\\n\\n\")\n",
        "        h_file.write(f\"extern const float {clean_name}[{flat_shape[0]}][{flat_shape[1]}];\\n\")\n",
        "\n",
        "    else:\n",
        "        print(f\"Skipping unsupported shape {shape} in {name}\")\n",
        "\n",
        "# Estrazione pesi\n",
        "for i, layer in enumerate(model.layers):\n",
        "    weights = layer.get_weights()\n",
        "    if weights:\n",
        "        for j, w in enumerate(weights):\n",
        "            var_name = f\"weights_{i}_{j}\"\n",
        "            write_array(var_name, w)\n",
        "\n",
        "c_file.close()\n",
        "h_file.close()\n",
        "\n",
        "# Print file names\n",
        "print(c_file_path)\n",
        "print(h_file_path)\n"
      ],
      "metadata": {
        "colab": {
          "base_uri": "https://localhost:8080/"
        },
        "id": "WxIPy4wh7Nmh",
        "outputId": "74ce0212-cc3a-4a9f-a3e2-78dbc44b3045"
      },
      "execution_count": null,
      "outputs": [
        {
          "output_type": "stream",
          "name": "stderr",
          "text": [
            "WARNING:absl:Compiled the loaded model, but the compiled metrics have yet to be built. `model.compile_metrics` will be empty until you train or evaluate the model.\n"
          ]
        },
        {
          "output_type": "stream",
          "name": "stdout",
          "text": [
            "File salvati:\n",
            "/content/model_weights.c\n",
            "/content/model_weights.h\n"
          ]
        }
      ]
    }
  ]
}